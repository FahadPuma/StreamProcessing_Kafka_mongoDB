{
 "cells": [
  {
   "cell_type": "code",
   "execution_count": null,
   "id": "fbb3aa8c",
   "metadata": {},
   "outputs": [],
   "source": [
    "import json\n",
    "import ssl\n",
    "from pymongo import MongoClient\n",
    "from kafka import KafkaConsumer\n",
    "\n",
    "# Creating a MongoDB instance to recive and store the data incoming from Kafka Consumer\n",
    "client = MongoClient()\n",
    "\n",
    "#Creating database Truck and tables truck and ovSpeed to store truck data\n",
    "db = client['Truck']\n",
    "truck=db.truck\n",
    "over_speed=db.ovSpeed"
   ]
  },
  {
   "cell_type": "code",
   "execution_count": null,
   "id": "50a2392b",
   "metadata": {},
   "outputs": [],
   "source": [
    "# Kafka consumer receives the data from Kafka topic truckDet and creating a json object for MongoDB\n",
    "consumer = KafkaConsumer('truckDet')\n",
    "for msg in consumer:\n",
    "    msg=str(msg.value)[5:-3]\n",
    "    msg_json = json.loads(msg)\n",
    "    \n",
    "    # Inserting data received from Kafka consumer into truck and ovSpeed tables\n",
    "    truck.insert_one(msg_json)\n",
    "    if(int(msg_json['Speed'])>100):\n",
    "        over_speed.insert_one(msg_json)\n",
    "        for x in over_speed.find():\n",
    "            print(x)"
   ]
  },
  {
   "cell_type": "code",
   "execution_count": null,
   "id": "dd969d1e",
   "metadata": {},
   "outputs": [],
   "source": []
  }
 ],
 "metadata": {
  "kernelspec": {
   "display_name": "Python 3",
   "language": "python",
   "name": "python3"
  },
  "language_info": {
   "codemirror_mode": {
    "name": "ipython",
    "version": 3
   },
   "file_extension": ".py",
   "mimetype": "text/x-python",
   "name": "python",
   "nbconvert_exporter": "python",
   "pygments_lexer": "ipython3",
   "version": "3.8.8"
  }
 },
 "nbformat": 4,
 "nbformat_minor": 5
}
