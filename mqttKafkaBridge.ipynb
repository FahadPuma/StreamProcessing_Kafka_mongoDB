{
 "cells": [
  {
   "cell_type": "code",
   "execution_count": null,
   "id": "258193ec",
   "metadata": {},
   "outputs": [],
   "source": [
    "import paho.mqtt.client as mqtt\n",
    "from pykafka import KafkaClient\n",
    "import time\n",
    "\n",
    "# Creating a mosquitto broker and a Kafka producer to send data from mosquitto to Kafka\n",
    "broker_mk=\"test.mosquitto.org\"\n",
    "client_mk = mqtt.Client(\"mqttKafkaBridge\")\n",
    "client_mk.connect(broker_mk)\n",
    "\n",
    "kafka_client = KafkaClient(hosts=\"localhost:9092\")\n",
    "\n",
    "#Creating a topic truckDet which will contain data sent b y mosquitto client\n",
    "kafka_topic = kafka_client.topics['truckDet']\n",
    "kafka_producer = kafka_topic.get_sync_producer()\n",
    "\n",
    "def on_message(client, userdata, message):\n",
    "    msg_payload = str(message.payload)\n",
    "    print(\"Received MQTT message: \", msg_payload)\n",
    "    kafka_producer.produce(msg_payload.encode('ascii'))\n",
    "    print(\"KAFKA: Just published \" + msg_payload + \" to topic truckDet\")\n",
    "\n",
    "client_mk.loop_start()\n",
    "client_mk.subscribe(\"data\")\n",
    "client_mk.on_message = on_message\n",
    "time.sleep(300)\n",
    "client_mk.loop_stop()"
   ]
  },
  {
   "cell_type": "code",
   "execution_count": null,
   "id": "46c3873d",
   "metadata": {},
   "outputs": [],
   "source": []
  }
 ],
 "metadata": {
  "kernelspec": {
   "display_name": "Python 3",
   "language": "python",
   "name": "python3"
  },
  "language_info": {
   "codemirror_mode": {
    "name": "ipython",
    "version": 3
   },
   "file_extension": ".py",
   "mimetype": "text/x-python",
   "name": "python",
   "nbconvert_exporter": "python",
   "pygments_lexer": "ipython3",
   "version": "3.8.8"
  }
 },
 "nbformat": 4,
 "nbformat_minor": 5
}
