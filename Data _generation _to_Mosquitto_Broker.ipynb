{
 "cells": [
  {
   "cell_type": "code",
   "execution_count": null,
   "id": "c818b141",
   "metadata": {},
   "outputs": [],
   "source": [
    "import paho.mqtt.client as mqtt\n",
    "import time\n",
    "import datetime\n",
    "import json\n",
    "import random\n",
    "#Creating a Mosquitto client which will generate and publish data into truckData client\n",
    "broker=\"test.mosquitto.org\"\n",
    "client=mqtt.Client('truckData')\n",
    "client.connect(broker)\n",
    "\n",
    "#Generating a dictionary of real time simulation of truck movement data \n",
    "#including Driver's ID, truck details and speed of the vehicle\n",
    "while True:\n",
    "    truck1={'TruckID':'001','LicenseID':'BR001','DriverID':'1','DriverName':'SHYAM','DriverCondition':'Good','timeStamp':str(datetime.datetime.now()),'ltt':'15.3','lgt':'54.1','Route':'NH10','FuelLevel':'50','Speed':random.randrange(40,120)}\n",
    "    truck2={'TruckID':'002','LicenseID':'BR002','DriverID':'2','DriverName':'RAM','DriverCondition':'Good','timeStamp':str(datetime.datetime.now()),'ltt':'16.7','lgt':'44.31','Route':'NH10','FuelLevel':'70','Speed':random.randrange(40,120)}\n",
    "    truck3={'TruckID':'003','LicenseID':'BR003','DriverID':'3','DriverName':'MOHAN','DriverCondition':'Good','timeStamp':str(datetime.datetime.now()),'ltt':'18.5','lgt':'74.7','Route':'NH19','FuelLevel':'60','Speed':random.randrange(40,120)}\n",
    "    truck4={'TruckID':'004','LicenseID':'BR004','DriverID':'4','DriverName':'SHIKHAR','DriverCondition':'Good','timeStamp':str(datetime.datetime.now()),'ltt':'14.3','lgt':'60.4','Route':'NH19','FuelLevel':'80','Speed':random.randrange(40,120)}\n",
    "    truck5={'TruckID':'005','LicenseID':'BR005','DriverID':'5','DriverName':'ARUN','DriverCondition':'Good','timeStamp':str(datetime.datetime.now()),'ltt':'13.1','lgt':'70.2','Route':'NH9','FuelLevel':'75','Speed':random.randrange(40,120)}\n",
    "    truck6={'TruckID':'006','LicenseID':'BR006','DriverID':'6','DriverName':'HASAN','DriverCondition':'Good','timeStamp':str(datetime.datetime.now()),'ltt':'13.1','lgt':'70.2','Route':'NH9','FuelLevel':'75','Speed':random.randrange(40,120)}\n",
    "    # Publishing the simulated data into Mosquitto client\n",
    "    \n",
    "    client.publish('data',json.dumps(truck1))\n",
    "    print('Truck details published',json.dumps(truck1))\n",
    "    client.publish('data',json.dumps(truck2))\n",
    "    print('Truck details published',json.dumps(truck2))\n",
    "    client.publish('data',json.dumps(truck3))\n",
    "    print('Truck details published',json.dumps(truck3))\n",
    "    client.publish('data',json.dumps(truck4))\n",
    "    print('Truck details published',json.dumps(truck4))\n",
    "    client.publish('data',json.dumps(truck5))\n",
    "    print('Truck details published',json.dumps(truck5))\n",
    "    client.publish('data',json.dumps(truck6))\n",
    "    print('Truck details published',json.dumps(truck6))\n",
    "    time.sleep(5)"
   ]
  },
  {
   "cell_type": "code",
   "execution_count": null,
   "id": "81727e6c",
   "metadata": {},
   "outputs": [],
   "source": []
  }
 ],
 "metadata": {
  "kernelspec": {
   "display_name": "Python 3",
   "language": "python",
   "name": "python3"
  },
  "language_info": {
   "codemirror_mode": {
    "name": "ipython",
    "version": 3
   },
   "file_extension": ".py",
   "mimetype": "text/x-python",
   "name": "python",
   "nbconvert_exporter": "python",
   "pygments_lexer": "ipython3",
   "version": "3.8.8"
  }
 },
 "nbformat": 4,
 "nbformat_minor": 5
}
